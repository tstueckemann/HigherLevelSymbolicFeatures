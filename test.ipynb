{
 "cells": [
  {
   "cell_type": "code",
   "execution_count": 1,
   "metadata": {},
   "outputs": [
    {
     "name": "stderr",
     "output_type": "stream",
     "text": [
      "2025-02-28 15:05:29.358127: I tensorflow/core/util/port.cc:153] oneDNN custom operations are on. You may see slightly different numerical results due to floating-point round-off errors from different computation orders. To turn them off, set the environment variable `TF_ENABLE_ONEDNN_OPTS=0`.\n",
      "2025-02-28 15:05:29.489199: E external/local_xla/xla/stream_executor/cuda/cuda_fft.cc:477] Unable to register cuFFT factory: Attempting to register factory for plugin cuFFT when one has already been registered\n",
      "WARNING: All log messages before absl::InitializeLog() is called are written to STDERR\n",
      "E0000 00:00:1740751529.536433 1152178 cuda_dnn.cc:8310] Unable to register cuDNN factory: Attempting to register factory for plugin cuDNN when one has already been registered\n",
      "E0000 00:00:1740751529.549609 1152178 cuda_blas.cc:1418] Unable to register cuBLAS factory: Attempting to register factory for plugin cuBLAS when one has already been registered\n",
      "2025-02-28 15:05:29.663895: I tensorflow/core/platform/cpu_feature_guard.cc:210] This TensorFlow binary is optimized to use available CPU instructions in performance-critical operations.\n",
      "To enable the following instructions: AVX2 AVX_VNNI FMA, in other operations, rebuild TensorFlow with the appropriate compiler flags.\n"
     ]
    },
    {
     "name": "stdout",
     "output_type": "stream",
     "text": [
      "Num GPUs Available:  1\n",
      "---------------------------------- SAVING FEATURES ----------------------------------\n",
      "---------------------------------- FOLD 1 ----------------------------------\n",
      "File already exists\n",
      "---------------------------------- FOLD 2 ----------------------------------\n",
      "File already exists\n",
      "---------------------------------- FOLD 3 ----------------------------------\n",
      "File already exists\n",
      "---------------------------------- FOLD 4 ----------------------------------\n",
      "File already exists\n",
      "---------------------------------- FOLD 5 ----------------------------------\n",
      "File already exists\n",
      "Starting fold:  1\n"
     ]
    },
    {
     "name": "stderr",
     "output_type": "stream",
     "text": [
      "I0000 00:00:1740751536.810185 1152178 gpu_device.cc:2022] Created device /job:localhost/replica:0/task:0/device:GPU:0 with 21458 MB memory:  -> device: 0, name: NVIDIA GeForce RTX 4090, pci bus id: 0000:01:00.0, compute capability: 8.9\n",
      "2025-02-28 15:05:38.107699: E tensorflow/core/framework/node_def_util.cc:676] NodeDef mentions attribute use_unbounded_threadpool which is not in the op definition: Op<name=MapDataset; signature=input_dataset:variant, other_arguments: -> handle:variant; attr=f:func; attr=Targuments:list(type),min=0; attr=output_types:list(type),min=1; attr=output_shapes:list(shape),min=1; attr=use_inter_op_parallelism:bool,default=true; attr=preserve_cardinality:bool,default=false; attr=force_synchronous:bool,default=false; attr=metadata:string,default=\"\"> This may be expected if your graph generating binary is newer  than this binary. Unknown attributes will be ignored. NodeDef: {{node ParallelMapDatasetV2/_15}}\n"
     ]
    },
    {
     "name": "stdout",
     "output_type": "stream",
     "text": [
      "\u001b[1m1/3\u001b[0m \u001b[32m━━━━━━\u001b[0m\u001b[37m━━━━━━━━━━━━━━\u001b[0m \u001b[1m0s\u001b[0m 183ms/step"
     ]
    },
    {
     "name": "stderr",
     "output_type": "stream",
     "text": [
      "2025-02-28 15:06:59.108310: E tensorflow/core/framework/node_def_util.cc:676] NodeDef mentions attribute use_unbounded_threadpool which is not in the op definition: Op<name=MapDataset; signature=input_dataset:variant, other_arguments: -> handle:variant; attr=f:func; attr=Targuments:list(type),min=0; attr=output_types:list(type),min=1; attr=output_shapes:list(shape),min=1; attr=use_inter_op_parallelism:bool,default=true; attr=preserve_cardinality:bool,default=false; attr=force_synchronous:bool,default=false; attr=metadata:string,default=\"\"> This may be expected if your graph generating binary is newer  than this binary. Unknown attributes will be ignored. NodeDef: {{node ParallelMapDatasetV2/_14}}\n"
     ]
    },
    {
     "name": "stdout",
     "output_type": "stream",
     "text": [
      "\u001b[1m3/3\u001b[0m \u001b[32m━━━━━━━━━━━━━━━━━━━━\u001b[0m\u001b[37m\u001b[0m \u001b[1m0s\u001b[0m 93ms/step\n",
      "validation fold score with input TSFRESH_SEL_SYM(accuracy): 0.717948717948718\n",
      "\u001b[1m13/13\u001b[0m \u001b[32m━━━━━━━━━━━━━━━━━━━━\u001b[0m\u001b[37m\u001b[0m \u001b[1m0s\u001b[0m 6ms/step\n",
      "test fold score with input TSFRESH_SEL_SYM-(accuracy): 0.7416879795396419\n",
      "\u001b[1m10/10\u001b[0m \u001b[32m━━━━━━━━━━━━━━━━━━━━\u001b[0m\u001b[37m\u001b[0m \u001b[1m0s\u001b[0m 6ms/step \n",
      "finished fold: 1\n",
      "architecture\n",
      "Method:  TSFRESH_SEL_SYM\n",
      "Dataset:  1\n",
      "Fold:  1\n",
      "Accuracy:  0.7416879795396419\n",
      "./results/results-1_Adiac -a transformer -m TSFRESH_SEL_SYM -s 5 -l 3 -h 4 -dm 32 -df 16 -dr 0.0 -st u -cf 0.h5\n",
      "Starting fold:  2\n"
     ]
    },
    {
     "name": "stderr",
     "output_type": "stream",
     "text": [
      "2025-02-28 15:07:04.194797: E tensorflow/core/framework/node_def_util.cc:676] NodeDef mentions attribute use_unbounded_threadpool which is not in the op definition: Op<name=MapDataset; signature=input_dataset:variant, other_arguments: -> handle:variant; attr=f:func; attr=Targuments:list(type),min=0; attr=output_types:list(type),min=1; attr=output_shapes:list(shape),min=1; attr=use_inter_op_parallelism:bool,default=true; attr=preserve_cardinality:bool,default=false; attr=force_synchronous:bool,default=false; attr=metadata:string,default=\"\"> This may be expected if your graph generating binary is newer  than this binary. Unknown attributes will be ignored. NodeDef: {{node ParallelMapDatasetV2/_15}}\n"
     ]
    },
    {
     "name": "stdout",
     "output_type": "stream",
     "text": [
      "\u001b[1m1/3\u001b[0m \u001b[32m━━━━━━\u001b[0m\u001b[37m━━━━━━━━━━━━━━\u001b[0m \u001b[1m0s\u001b[0m 179ms/step"
     ]
    },
    {
     "name": "stderr",
     "output_type": "stream",
     "text": [
      "2025-02-28 15:08:02.929012: E tensorflow/core/framework/node_def_util.cc:676] NodeDef mentions attribute use_unbounded_threadpool which is not in the op definition: Op<name=MapDataset; signature=input_dataset:variant, other_arguments: -> handle:variant; attr=f:func; attr=Targuments:list(type),min=0; attr=output_types:list(type),min=1; attr=output_shapes:list(shape),min=1; attr=use_inter_op_parallelism:bool,default=true; attr=preserve_cardinality:bool,default=false; attr=force_synchronous:bool,default=false; attr=metadata:string,default=\"\"> This may be expected if your graph generating binary is newer  than this binary. Unknown attributes will be ignored. NodeDef: {{node ParallelMapDatasetV2/_14}}\n"
     ]
    },
    {
     "name": "stdout",
     "output_type": "stream",
     "text": [
      "\u001b[1m3/3\u001b[0m \u001b[32m━━━━━━━━━━━━━━━━━━━━\u001b[0m\u001b[37m\u001b[0m \u001b[1m0s\u001b[0m 93ms/step\n",
      "validation fold score with input TSFRESH_SEL_SYM(accuracy): 0.6025641025641025\n",
      "\u001b[1m13/13\u001b[0m \u001b[32m━━━━━━━━━━━━━━━━━━━━\u001b[0m\u001b[37m\u001b[0m \u001b[1m0s\u001b[0m 5ms/step\n",
      "test fold score with input TSFRESH_SEL_SYM-(accuracy): 0.6726342710997443\n",
      "\u001b[1m10/10\u001b[0m \u001b[32m━━━━━━━━━━━━━━━━━━━━\u001b[0m\u001b[37m\u001b[0m \u001b[1m0s\u001b[0m 6ms/step \n",
      "finished fold: 2\n",
      "architecture\n",
      "Method:  TSFRESH_SEL_SYM\n",
      "Dataset:  1\n",
      "Fold:  2\n",
      "Accuracy:  0.6726342710997443\n",
      "./results/results-1_Adiac -a transformer -m TSFRESH_SEL_SYM -s 5 -l 3 -h 4 -dm 32 -df 16 -dr 0.0 -st u -cf 0.h5\n",
      "Starting fold:  3\n",
      "\u001b[1m1/3\u001b[0m \u001b[32m━━━━━━\u001b[0m\u001b[37m━━━━━━━━━━━━━━\u001b[0m \u001b[1m0s\u001b[0m 182ms/step"
     ]
    },
    {
     "name": "stderr",
     "output_type": "stream",
     "text": [
      "2025-02-28 15:09:08.847881: E tensorflow/core/framework/node_def_util.cc:676] NodeDef mentions attribute use_unbounded_threadpool which is not in the op definition: Op<name=MapDataset; signature=input_dataset:variant, other_arguments: -> handle:variant; attr=f:func; attr=Targuments:list(type),min=0; attr=output_types:list(type),min=1; attr=output_shapes:list(shape),min=1; attr=use_inter_op_parallelism:bool,default=true; attr=preserve_cardinality:bool,default=false; attr=force_synchronous:bool,default=false; attr=metadata:string,default=\"\"> This may be expected if your graph generating binary is newer  than this binary. Unknown attributes will be ignored. NodeDef: {{node ParallelMapDatasetV2/_14}}\n"
     ]
    },
    {
     "name": "stdout",
     "output_type": "stream",
     "text": [
      "\u001b[1m3/3\u001b[0m \u001b[32m━━━━━━━━━━━━━━━━━━━━\u001b[0m\u001b[37m\u001b[0m \u001b[1m0s\u001b[0m 95ms/step\n",
      "validation fold score with input TSFRESH_SEL_SYM(accuracy): 0.6282051282051282\n",
      "\u001b[1m13/13\u001b[0m \u001b[32m━━━━━━━━━━━━━━━━━━━━\u001b[0m\u001b[37m\u001b[0m \u001b[1m0s\u001b[0m 6ms/step\n",
      "test fold score with input TSFRESH_SEL_SYM-(accuracy): 0.731457800511509\n",
      "\u001b[1m10/10\u001b[0m \u001b[32m━━━━━━━━━━━━━━━━━━━━\u001b[0m\u001b[37m\u001b[0m \u001b[1m0s\u001b[0m 6ms/step \n",
      "finished fold: 3\n",
      "architecture\n",
      "Method:  TSFRESH_SEL_SYM\n",
      "Dataset:  1\n",
      "Fold:  3\n",
      "Accuracy:  0.731457800511509\n",
      "./results/results-1_Adiac -a transformer -m TSFRESH_SEL_SYM -s 5 -l 3 -h 4 -dm 32 -df 16 -dr 0.0 -st u -cf 0.h5\n",
      "Starting fold:  4\n"
     ]
    },
    {
     "name": "stderr",
     "output_type": "stream",
     "text": [
      "2025-02-28 15:09:13.967112: E tensorflow/core/framework/node_def_util.cc:676] NodeDef mentions attribute use_unbounded_threadpool which is not in the op definition: Op<name=MapDataset; signature=input_dataset:variant, other_arguments: -> handle:variant; attr=f:func; attr=Targuments:list(type),min=0; attr=output_types:list(type),min=1; attr=output_shapes:list(shape),min=1; attr=use_inter_op_parallelism:bool,default=true; attr=preserve_cardinality:bool,default=false; attr=force_synchronous:bool,default=false; attr=metadata:string,default=\"\"> This may be expected if your graph generating binary is newer  than this binary. Unknown attributes will be ignored. NodeDef: {{node ParallelMapDatasetV2/_15}}\n"
     ]
    },
    {
     "name": "stdout",
     "output_type": "stream",
     "text": [
      "\u001b[1m1/3\u001b[0m \u001b[32m━━━━━━\u001b[0m\u001b[37m━━━━━━━━━━━━━━\u001b[0m \u001b[1m0s\u001b[0m 180ms/step"
     ]
    },
    {
     "name": "stderr",
     "output_type": "stream",
     "text": [
      "2025-02-28 15:10:36.993123: E tensorflow/core/framework/node_def_util.cc:676] NodeDef mentions attribute use_unbounded_threadpool which is not in the op definition: Op<name=MapDataset; signature=input_dataset:variant, other_arguments: -> handle:variant; attr=f:func; attr=Targuments:list(type),min=0; attr=output_types:list(type),min=1; attr=output_shapes:list(shape),min=1; attr=use_inter_op_parallelism:bool,default=true; attr=preserve_cardinality:bool,default=false; attr=force_synchronous:bool,default=false; attr=metadata:string,default=\"\"> This may be expected if your graph generating binary is newer  than this binary. Unknown attributes will be ignored. NodeDef: {{node ParallelMapDatasetV2/_14}}\n"
     ]
    },
    {
     "name": "stdout",
     "output_type": "stream",
     "text": [
      "\u001b[1m3/3\u001b[0m \u001b[32m━━━━━━━━━━━━━━━━━━━━\u001b[0m\u001b[37m\u001b[0m \u001b[1m0s\u001b[0m 92ms/step\n",
      "validation fold score with input TSFRESH_SEL_SYM(accuracy): 0.7692307692307693\n",
      "\u001b[1m13/13\u001b[0m \u001b[32m━━━━━━━━━━━━━━━━━━━━\u001b[0m\u001b[37m\u001b[0m \u001b[1m0s\u001b[0m 5ms/step\n",
      "test fold score with input TSFRESH_SEL_SYM-(accuracy): 0.7493606138107417\n",
      "\u001b[1m10/10\u001b[0m \u001b[32m━━━━━━━━━━━━━━━━━━━━\u001b[0m\u001b[37m\u001b[0m \u001b[1m0s\u001b[0m 6ms/step \n",
      "finished fold: 4\n",
      "architecture\n",
      "Method:  TSFRESH_SEL_SYM\n",
      "Dataset:  1\n",
      "Fold:  4\n",
      "Accuracy:  0.7493606138107417\n",
      "./results/results-1_Adiac -a transformer -m TSFRESH_SEL_SYM -s 5 -l 3 -h 4 -dm 32 -df 16 -dr 0.0 -st u -cf 0.h5\n",
      "Starting fold:  5\n",
      "\u001b[1m1/3\u001b[0m \u001b[32m━━━━━━\u001b[0m\u001b[37m━━━━━━━━━━━━━━\u001b[0m \u001b[1m0s\u001b[0m 178ms/step"
     ]
    },
    {
     "name": "stderr",
     "output_type": "stream",
     "text": [
      "2025-02-28 15:11:39.260170: E tensorflow/core/framework/node_def_util.cc:676] NodeDef mentions attribute use_unbounded_threadpool which is not in the op definition: Op<name=MapDataset; signature=input_dataset:variant, other_arguments: -> handle:variant; attr=f:func; attr=Targuments:list(type),min=0; attr=output_types:list(type),min=1; attr=output_shapes:list(shape),min=1; attr=use_inter_op_parallelism:bool,default=true; attr=preserve_cardinality:bool,default=false; attr=force_synchronous:bool,default=false; attr=metadata:string,default=\"\"> This may be expected if your graph generating binary is newer  than this binary. Unknown attributes will be ignored. NodeDef: {{node ParallelMapDatasetV2/_14}}\n"
     ]
    },
    {
     "name": "stdout",
     "output_type": "stream",
     "text": [
      "\u001b[1m3/3\u001b[0m \u001b[32m━━━━━━━━━━━━━━━━━━━━\u001b[0m\u001b[37m\u001b[0m \u001b[1m1s\u001b[0m 257ms/step\n",
      "validation fold score with input TSFRESH_SEL_SYM(accuracy): 0.6666666666666666\n",
      "\u001b[1m13/13\u001b[0m \u001b[32m━━━━━━━━━━━━━━━━━━━━\u001b[0m\u001b[37m\u001b[0m \u001b[1m0s\u001b[0m 6ms/step\n",
      "test fold score with input TSFRESH_SEL_SYM-(accuracy): 0.7391304347826086\n",
      "\u001b[1m10/10\u001b[0m \u001b[32m━━━━━━━━━━━━━━━━━━━━\u001b[0m\u001b[37m\u001b[0m \u001b[1m0s\u001b[0m 6ms/step \n",
      "finished fold: 5\n",
      "architecture\n",
      "Method:  TSFRESH_SEL_SYM\n",
      "Dataset:  1\n",
      "Fold:  5\n",
      "Accuracy:  0.7391304347826086\n",
      "./results/results-1_Adiac -a transformer -m TSFRESH_SEL_SYM -s 5 -l 3 -h 4 -dm 32 -df 16 -dr 0.0 -st u -cf 0.h5\n",
      "Final results\n",
      "Method:  TSFRESH_SEL_SYM\n",
      "Dataset:  1\n",
      "Average accuracy:  0.7268542199488491\n"
     ]
    }
   ],
   "source": [
    "from modules.resnet import ResNet\n",
    "import numpy as np\n",
    "import tensorflow as tf\n",
    "from modules import feature_extractor as fe\n",
    "from modules import modelCreator\n",
    "from modules.dataset_selecter import datasetSelector\n",
    "from sklearn.model_selection import StratifiedKFold\n",
    "\n",
    "import os\n",
    "import random\n",
    "from tensorflow.python.eager import context\n",
    "from tensorflow.python.framework import ops\n",
    "\n",
    "seed_value = 56\n",
    "\n",
    "os.environ['PYTHONHASHSEED']=str(seed_value)\n",
    "random.seed(seed_value)\n",
    "tf.random.set_seed(seed_value)\n",
    "np.random.RandomState(seed_value)\n",
    "np.random.seed(seed_value)\n",
    "context.set_global_seed(seed_value)\n",
    "ops.get_default_graph().seed = seed_value\n",
    "\n",
    "os.environ['TF_DETERMINISTIC_OPS'] = '1'\n",
    "os.environ['TF_CUDNN_DETERMINISTIC'] = '1'\n",
    "np.random.seed(seed_value)\n",
    "\n",
    "\n",
    "def run_experiments(seed_value=56, \n",
    "                    takeName=False, use_cache=True, saveMethod='pickle',\n",
    "                    skipDebugSaves=True, saveWeights=False,\n",
    "                    nrFolds=5, batchSize=100, numEpochs=500, patience=70,\n",
    "                    numbers=[1], \n",
    "                    method='TSFRESH_SEL_SYM', symbolCount=0, strategy=None, ncoefI=None, coef_div=None, \n",
    "                    architecture='transformer', numOfAttentionLayers=None, header=None, dmodel=None, dff=None, dropOutRate=None, lr=None, warmup=None, \n",
    "                    num_resblocks=None, num_channels=None, use_1x1conv=None):\n",
    "    \n",
    "    for number in numbers:\n",
    "\n",
    "        kf = StratifiedKFold(nrFolds, shuffle=True, random_state=seed_value)\n",
    "\n",
    "        X_train, X_test, y_train, y_test, y_trainy, y_testy, seqSize, dataName, num_of_classes, number = datasetSelector('ucr', seed_value, number, takeName, use_cache)\n",
    "\n",
    "\n",
    "        saved = fe.save_foldwise_features(number, dataName, method, X_train, X_test, y_train, y_test, y_trainy, y_testy, kf)\n",
    "        fold = 0\n",
    "\n",
    "        abstractionString = method\n",
    "        fullResults = dict()\n",
    "\n",
    "        accuracies = []\n",
    "\n",
    "        for train, test in kf.split(X_train, y_trainy):\n",
    "            fold += 1\n",
    "            print(\"Starting fold: \", fold)\n",
    "\n",
    "            x_train1, x_val, x_test, y_train1, y_val, y_test, y_trainy1, y_valy, y_testy = fe.load_foldwise_features(number, dataName, method, fold, saveMethod)\n",
    "                \n",
    "            if np.any(np.isnan(x_train1.flatten())) or np.any(np.isnan(x_val.flatten())) or np.any(np.isnan(x_test.flatten())) or np.any(np.isnan(y_train1.flatten())) or np.any(np.isnan(y_val.flatten())) or np.any(np.isnan(y_test.flatten())):\n",
    "                continue\n",
    "\n",
    "            if x_train1 is None:\n",
    "                print(\"No relevant features extracted, skipping..\")\n",
    "                continue \n",
    "            \n",
    "            x_train1, x_val, x_test, y_train1, y_val, y_test, X_train_ori, X_val_ori, X_test_ori, y_trainy1, y_testy = modelCreator.preprocessData(x_train1, x_val, x_test, y_train1, y_val, y_test, \n",
    "                                                                                                                                                y_trainy1, y_testy, fold, symbolsCount=symbolCount, dataName=dataName, \n",
    "                                                                                                                                                seqSize=seqSize,\n",
    "                                                                                                                                                strategy=strategy,\n",
    "                                                                                                                                                method=method,\n",
    "                                                                                                                                                ncoef=ncoefI, coef_div=coef_div)\n",
    "\n",
    "            out = modelCreator.doAbstractedTraining(x_train1, x_val, x_test, y_train1, y_val, y_testy, \n",
    "                                                    BATCH=batchSize, seed_value=seed_value, num_epochs=numEpochs, patience = patience, \n",
    "                                                    num_of_classes=num_of_classes, number=number, dataName=dataName, fold=fold,\n",
    "                                                    architecture=architecture, symbolCount=symbolCount, \n",
    "                                                    numOfAttentionLayers=numOfAttentionLayers,header=header, dmodel=dmodel, dff=dff, \n",
    "                                                    num_resblocks=num_resblocks, num_channels=num_channels, use_1x1conv=use_1x1conv,\n",
    "                                                    abstractionType=abstractionString, rate=dropOutRate, lr=lr, warmup=warmup, \n",
    "                                                    skipDebugSaves=skipDebugSaves, saveWeights=saveWeights)\n",
    "            \n",
    "            saveName = modelCreator.getWeightName(number, dataName, 0,\n",
    "                                                    learning = False, results = True,\n",
    "                                                    architecture=architecture, abstractionType=method, symbols=symbolCount,\n",
    "                                                    layers=numOfAttentionLayers, header=header, dmodel=dmodel, dff=dff,\n",
    "                                                    num_resblocks=num_resblocks, num_channels=num_channels, use_1x1conv=use_1x1conv,\n",
    "                                                    num_coef=ncoefI, dropout=dropOutRate, strategy=strategy)\n",
    "\n",
    "            \n",
    "            print(\"finished fold: \" + str(fold))\n",
    "            print(\"architecture\")\n",
    "            print(\"Method: \", method)\n",
    "            print(\"Dataset: \", number)\n",
    "            print(\"Fold: \", fold)\n",
    "            print(\"Accuracy: \", out[1][0])\n",
    "            accuracies.append(out[1][0])\n",
    "            print(saveName)\n",
    "\n",
    "        print(\"Final results\")\n",
    "        print(\"Method: \", method)\n",
    "        print(\"Dataset: \", number)\n",
    "        print(\"Average accuracy: \", np.mean(accuracies))\n",
    "\n",
    "# dataset parameters\n",
    "takeName = False\n",
    "use_cache = True\n",
    "saveMethod = 'pickle'\n",
    "\n",
    "# additional saves\n",
    "skipDebugSaves = True\n",
    "saveWeights = False\n",
    "\n",
    "# training parameters\n",
    "nrFolds = 5\n",
    "batchSize = 100\n",
    "numEpochs = 500\n",
    "patience = 70\n",
    "\n",
    "# dataset numbers\n",
    "numbers = [1]\n",
    "\n",
    "# method\n",
    "method = 'TSFRESH_SEL_SYM'\n",
    "symbolCount = 5\n",
    "strategy = 'uniform'\n",
    "ncoefI = 0 # needed for SFA\n",
    "coef_div = 0 # needed for SFA\n",
    "\n",
    "# architecture 'transformer' or 'resnet'\n",
    "\n",
    "### transformer model parameters\n",
    "architecture = 'transformer'\n",
    "numOfAttentionLayers = 3\n",
    "header = 4\n",
    "dmodel = 32\n",
    "dff = 16\n",
    "dropOutRate = 0.0\n",
    "lr = 'custom'\n",
    "warmup = 10000\n",
    "\n",
    "## resnet model parameters\n",
    "# architecture = 'resnet'\n",
    "# num_resblocks = 3\n",
    "# num_channels = 16\n",
    "# use_1x1conv = True\n",
    "# lr = 0.0001\n",
    "\n",
    "run_experiments(seed_value=seed_value, \n",
    "                takeName=takeName, use_cache=use_cache, saveMethod=saveMethod,\n",
    "                skipDebugSaves=skipDebugSaves, saveWeights=saveWeights,\n",
    "                nrFolds=nrFolds, batchSize=batchSize, numEpochs=numEpochs, patience=patience,\n",
    "                numbers=numbers, \n",
    "                method=method, symbolCount=symbolCount, strategy=strategy, ncoefI=ncoefI, coef_div=coef_div, \n",
    "                architecture=architecture, \n",
    "                numOfAttentionLayers=numOfAttentionLayers, header=header, dmodel=dmodel, dff=dff, dropOutRate=dropOutRate, lr=lr, warmup=warmup)\n",
    "                # num_resblocks=num_resblocks, num_channels=num_channels, use_1x1conv=use_1x1conv, lr=lr)"
   ]
  }
 ],
 "metadata": {
  "kernelspec": {
   "display_name": "experiments",
   "language": "python",
   "name": "python3"
  },
  "language_info": {
   "codemirror_mode": {
    "name": "ipython",
    "version": 3
   },
   "file_extension": ".py",
   "mimetype": "text/x-python",
   "name": "python",
   "nbconvert_exporter": "python",
   "pygments_lexer": "ipython3",
   "version": "3.12.0"
  }
 },
 "nbformat": 4,
 "nbformat_minor": 2
}
